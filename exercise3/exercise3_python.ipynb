{
 "cells": [
  {
   "cell_type": "code",
   "execution_count": 248,
   "metadata": {
    "collapsed": true
   },
   "outputs": [],
   "source": [
    "import numpy as np\n",
    "import cv2"
   ]
  },
  {
   "cell_type": "code",
   "execution_count": 249,
   "metadata": {
    "collapsed": true
   },
   "outputs": [],
   "source": [
    "def Add_gaussian_Noise(image, pa, pb):\n",
    "    row,col= image.shape\n",
    "    mean = pa\n",
    "    sigma = pb\n",
    "    gauss = np.random.normal(mean,sigma,(row,col))\n",
    "    gauss = gauss.reshape(row,col)\n",
    "    noisy = np.copy(image)\n",
    "    noisy = noisy + gauss \n",
    "    return noisy\n",
    "\n"
   ]
  },
  {
   "cell_type": "code",
   "execution_count": 250,
   "metadata": {
    "collapsed": true
   },
   "outputs": [],
   "source": [
    "def Add_salt_pepper_Noise(image, pa, pb):\n",
    "    row,col = image.shape\n",
    "    out = np.copy(image)\n",
    "    # Salt mode\n",
    "    num_salt = np.ceil(row*col*pb)\n",
    "    coords = [np.random.randint(0, i - 1, int(num_salt))\n",
    "              for i in image.shape]\n",
    "    out[coords] = 255\n",
    "    # Pepper mode\n",
    "    num_pepper = np.ceil(row*col*pa)\n",
    "    coords = [np.random.randint(0, i - 1, int(num_pepper))\n",
    "              for i in image.shape]\n",
    "    out[coords] = 0\n",
    "    return out"
   ]
  },
  {
   "cell_type": "code",
   "execution_count": 251,
   "metadata": {},
   "outputs": [
    {
     "data": {
      "text/plain": [
       "-1"
      ]
     },
     "execution_count": 251,
     "metadata": {},
     "output_type": "execute_result"
    }
   ],
   "source": [
    "image = cv2.imread(\"C:\\\\Users\\\\lenovo\\\\Desktop\\\\EC601\\\\OpenCV\\\\OpenCV_homework\\\\Test_images\\\\Lenna.png\" ,0)\n",
    "\n",
    "cv2.imshow(\"Original\",image)\n",
    "cv2.imwrite(\"C:\\\\Users\\\\lenovo\\\\Desktop\\\\EC601\\\\OpenCV\\\\OpenCV_homework\\\\exercise3 image\\\\Lenna_Original.png\",image)\n",
    "cv2.waitKey(0)"
   ]
  },
  {
   "cell_type": "code",
   "execution_count": 252,
   "metadata": {},
   "outputs": [
    {
     "data": {
      "text/plain": [
       "-1"
      ]
     },
     "execution_count": 252,
     "metadata": {},
     "output_type": "execute_result"
    }
   ],
   "source": [
    "mean = 0\n",
    "sigma = 50\n",
    "noise_img = Add_gaussian_Noise(image, mean, sigma)\n",
    "cv2.imshow( \"Gaussian Noise\", noise_img)\n",
    "cv2.imwrite(\"C:\\\\Users\\\\lenovo\\\\Desktop\\\\EC601\\\\OpenCV\\\\OpenCV_homework\\\\exercise3 image\\\\Lenna_Gaussian Noise.png\", noise_img)\n",
    "cv2.waitKey(0)"
   ]
  },
  {
   "cell_type": "code",
   "execution_count": 253,
   "metadata": {},
   "outputs": [
    {
     "data": {
      "text/plain": [
       "-1"
      ]
     },
     "execution_count": 253,
     "metadata": {},
     "output_type": "execute_result"
    }
   ],
   "source": [
    "noise_dst = np.copy(noise_img)\n",
    "noise_dst = cv2.blur(noise_dst,(3,3))\n",
    "cv2.imshow( \"Box filter\", noise_dst)\n",
    "cv2.imwrite(\"C:\\\\Users\\\\lenovo\\\\Desktop\\\\EC601\\\\OpenCV\\\\OpenCV_homework\\\\exercise3 image\\\\Lenna_Gaussian Noise_Box filter_size3.png\", noise_dst)\n",
    "cv2.waitKey(0)"
   ]
  },
  {
   "cell_type": "code",
   "execution_count": 254,
   "metadata": {},
   "outputs": [
    {
     "data": {
      "text/plain": [
       "-1"
      ]
     },
     "execution_count": 254,
     "metadata": {},
     "output_type": "execute_result"
    }
   ],
   "source": [
    "noise_dst1 = np.copy(noise_img)\n",
    "noise_dst1 = cv2.GaussianBlur(noise_dst1,(3,3),1.5)\n",
    "cv2.imshow( \"Gaussian filter\", noise_dst1)\n",
    "cv2.imwrite(\"C:\\\\Users\\\\lenovo\\\\Desktop\\\\EC601\\\\OpenCV\\\\OpenCV_homework\\\\exercise3 image\\\\Lenna_Gaussian Noise_Gaussian filter_size3.png\", noise_dst1)\n",
    "cv2.waitKey(0)"
   ]
  },
  {
   "cell_type": "code",
   "execution_count": 260,
   "metadata": {},
   "outputs": [
    {
     "data": {
      "text/plain": [
       "-1"
      ]
     },
     "execution_count": 260,
     "metadata": {},
     "output_type": "execute_result"
    }
   ],
   "source": [
    "noise_dst2 = np.copy(noise_img)\n",
    "noise_dst2 = noise_dst2.astype(np.uint8)\n",
    "noise_dst2 = cv2.medianBlur(noise_dst2,3)\n",
    "cv2.imshow( \"Median filter\", noise_dst2)\n",
    "cv2.imwrite(\"C:\\\\Users\\\\lenovo\\\\Desktop\\\\EC601\\\\OpenCV\\\\OpenCV_homework\\\\exercise3 image\\\\Lenna_Gaussian Noise_Median filter_size3.png\", noise_dst2)\n",
    "cv2.waitKey(0)"
   ]
  },
  {
   "cell_type": "code",
   "execution_count": 231,
   "metadata": {},
   "outputs": [
    {
     "data": {
      "text/plain": [
       "-1"
      ]
     },
     "execution_count": 231,
     "metadata": {},
     "output_type": "execute_result"
    }
   ],
   "source": [
    "pa=0.01\n",
    "pb=0.01\n",
    "noise_img2 = Add_salt_pepper_Noise(image, pa, pb)\n",
    "cv2.imshow( \"Salt and Pepper Noise\",noise_img2)\n",
    "cv2.imwrite(\"C:\\\\Users\\\\lenovo\\\\Desktop\\\\EC601\\\\OpenCV\\\\OpenCV_homework\\\\exercise3 image\\\\Lenna_Salt and Pepper Noise.png\", noise_img2)\n",
    "cv2.waitKey(0)"
   ]
  },
  {
   "cell_type": "code",
   "execution_count": 239,
   "metadata": {},
   "outputs": [
    {
     "data": {
      "text/plain": [
       "-1"
      ]
     },
     "execution_count": 239,
     "metadata": {},
     "output_type": "execute_result"
    }
   ],
   "source": [
    "noise_dst3 = np.copy(noise_img2)\n",
    "noise_dst3 = cv2.blur(noise_dst3,(3,3))\n",
    "cv2.imshow( \"Box filter\", noise_dst3)\n",
    "cv2.imwrite(\"C:\\\\Users\\\\lenovo\\\\Desktop\\\\EC601\\\\OpenCV\\\\OpenCV_homework\\\\exercise3 image\\\\Lenna_Salt and Pepper Noise_Box filiter_size3.png\", noise_dst3)\n",
    "cv2.waitKey(0)"
   ]
  },
  {
   "cell_type": "code",
   "execution_count": 243,
   "metadata": {},
   "outputs": [
    {
     "data": {
      "text/plain": [
       "-1"
      ]
     },
     "execution_count": 243,
     "metadata": {},
     "output_type": "execute_result"
    }
   ],
   "source": [
    "noise_dst4 = np.copy(noise_img2)\n",
    "noise_dst4 = cv2.GaussianBlur(noise_dst4,(3,3),1.5)\n",
    "cv2.imshow( \"Gaussian filter\", noise_dst4)\n",
    "cv2.imwrite(\"C:\\\\Users\\\\lenovo\\\\Desktop\\\\EC601\\\\OpenCV\\\\OpenCV_homework\\\\exercise3 image\\\\Lenna_Salt and Pepper Noise_Gaussian filiter_size3.png\", noise_dst4)\n",
    "cv2.waitKey(0)"
   ]
  },
  {
   "cell_type": "code",
   "execution_count": 246,
   "metadata": {},
   "outputs": [
    {
     "data": {
      "text/plain": [
       "-1"
      ]
     },
     "execution_count": 246,
     "metadata": {},
     "output_type": "execute_result"
    }
   ],
   "source": [
    "noise_dst5 = np.copy(noise_img2)\n",
    "noise_dst5 = cv2.medianBlur(noise_dst5,7)\n",
    "cv2.imshow( \"Median filter\", noise_dst5)\n",
    "cv2.imwrite(\"C:\\\\Users\\\\lenovo\\\\Desktop\\\\EC601\\\\OpenCV\\\\OpenCV_homework\\\\exercise3 image\\\\Lenna_Salt and Pepper Noise_Median filiter_size7.png\", noise_dst5)\n",
    "cv2.waitKey(0)"
   ]
  },
  {
   "cell_type": "code",
   "execution_count": null,
   "metadata": {
    "collapsed": true
   },
   "outputs": [],
   "source": []
  }
 ],
 "metadata": {
  "kernelspec": {
   "display_name": "Python 3",
   "language": "python",
   "name": "python3"
  },
  "language_info": {
   "codemirror_mode": {
    "name": "ipython",
    "version": 3
   },
   "file_extension": ".py",
   "mimetype": "text/x-python",
   "name": "python",
   "nbconvert_exporter": "python",
   "pygments_lexer": "ipython3",
   "version": "3.6.2"
  }
 },
 "nbformat": 4,
 "nbformat_minor": 2
}
