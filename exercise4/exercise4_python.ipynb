{
 "cells": [
  {
   "cell_type": "code",
   "execution_count": 1,
   "metadata": {
    "collapsed": true
   },
   "outputs": [],
   "source": [
    "import numpy as np\n",
    "import cv2"
   ]
  },
  {
   "cell_type": "code",
   "execution_count": 2,
   "metadata": {},
   "outputs": [
    {
     "data": {
      "text/plain": [
       "-1"
      ]
     },
     "execution_count": 2,
     "metadata": {},
     "output_type": "execute_result"
    }
   ],
   "source": [
    "src = cv2.imread(\"C:\\\\Users\\\\lenovo\\\\Desktop\\\\EC601\\\\OpenCV\\\\OpenCV_homework\\\\Test_images\\\\Lenna.png\")\n",
    "gray = cv2.cvtColor(src,cv2.COLOR_BGR2GRAY)\n",
    "cv2.imshow(\"Input Image\", src)\n",
    "cv2.imwrite(\"C:\\\\Users\\\\lenovo\\\\Desktop\\\\EC601\\\\OpenCV\\\\OpenCV_homework\\\\exercise4 image\\\\Lenna_Input Image.png\",src)\n",
    "cv2.waitKey(0)"
   ]
  },
  {
   "cell_type": "code",
   "execution_count": 3,
   "metadata": {},
   "outputs": [
    {
     "data": {
      "text/plain": [
       "-1"
      ]
     },
     "execution_count": 3,
     "metadata": {},
     "output_type": "execute_result"
    }
   ],
   "source": [
    "threshold_type = 2\n",
    "threshold_value = 128\n",
    "[x,dst] = cv2.threshold(gray, threshold_value, 255, threshold_type)\n",
    "cv2.imshow(\"Thresholded Image\", dst)\n",
    "cv2.imwrite(\"C:\\\\Users\\\\lenovo\\\\Desktop\\\\EC601\\\\OpenCV\\\\OpenCV_homework\\\\exercise4 image\\\\Lenna_Thresholded Image.png\",dst)\n",
    "cv2.waitKey(0)"
   ]
  },
  {
   "cell_type": "code",
   "execution_count": 4,
   "metadata": {},
   "outputs": [
    {
     "data": {
      "text/plain": [
       "-1"
      ]
     },
     "execution_count": 4,
     "metadata": {},
     "output_type": "execute_result"
    }
   ],
   "source": [
    "current_threshold = 128\n",
    "max_threshold = 255\n",
    "[x,thresholded] = cv2.threshold(gray, current_threshold, max_threshold, cv2.THRESH_BINARY)\n",
    "cv2.imshow(\"Binary threshold\",thresholded)\n",
    "cv2.imwrite(\"C:\\\\Users\\\\lenovo\\\\Desktop\\\\EC601\\\\OpenCV\\\\OpenCV_homework\\\\exercise4 image\\\\Lenna_Binary threshold.png\",thresholded)\n",
    "cv2.waitKey(0)"
   ]
  },
  {
   "cell_type": "code",
   "execution_count": 5,
   "metadata": {},
   "outputs": [
    {
     "data": {
      "text/plain": [
       "-1"
      ]
     },
     "execution_count": 5,
     "metadata": {},
     "output_type": "execute_result"
    }
   ],
   "source": [
    "threshold1 = 27\n",
    "threshold2 = 125\n",
    "[x,binary_image1] = cv2.threshold(gray, threshold1, max_threshold, cv2.THRESH_BINARY)\n",
    "[x,binary_image2] = cv2.threshold(gray, threshold2, max_threshold, cv2.THRESH_BINARY_INV)\n",
    "band_thresholded_image = cv2.bitwise_and(binary_image1,binary_image2)\n",
    "cv2.imshow(\"Band Thresholding\", band_thresholded_image)\n",
    "cv2.imwrite(\"C:\\\\Users\\\\lenovo\\\\Desktop\\\\EC601\\\\OpenCV\\\\OpenCV_homework\\\\exercise4 image\\\\Lenna_Band Thresholding.png\",band_thresholded_image)\n",
    "cv2.waitKey(0)"
   ]
  },
  {
   "cell_type": "code",
   "execution_count": 6,
   "metadata": {},
   "outputs": [
    {
     "data": {
      "text/plain": [
       "-1"
      ]
     },
     "execution_count": 6,
     "metadata": {},
     "output_type": "execute_result"
    }
   ],
   "source": [
    "[x,semi_thresholded_image] = cv2.threshold(gray, current_threshold, max_threshold, cv2.THRESH_BINARY_INV | cv2.THRESH_OTSU)\n",
    "semi_thresholded_image = cv2.bitwise_and(gray,semi_thresholded_image)\n",
    "cv2.imshow(\"Semi Thresholding\", semi_thresholded_image)\n",
    "cv2.imwrite(\"C:\\\\Users\\\\lenovo\\\\Desktop\\\\EC601\\\\OpenCV\\\\OpenCV_homework\\\\exercise4 image\\\\Lenna_Semi Thresholding.png\",semi_thresholded_image)\n",
    "cv2.waitKey(0)"
   ]
  },
  {
   "cell_type": "code",
   "execution_count": 7,
   "metadata": {},
   "outputs": [
    {
     "data": {
      "text/plain": [
       "-1"
      ]
     },
     "execution_count": 7,
     "metadata": {},
     "output_type": "execute_result"
    }
   ],
   "source": [
    "adaptive_thresh = cv2.adaptiveThreshold(gray, 255.0, cv2.ADAPTIVE_THRESH_GAUSSIAN_C, cv2.THRESH_BINARY, 101, 10 )\n",
    "cv2.imshow(\"Adaptive Thresholding\", adaptive_thresh);\n",
    "cv2.imwrite(\"C:\\\\Users\\\\lenovo\\\\Desktop\\\\EC601\\\\OpenCV\\\\OpenCV_homework\\\\exercise4 image\\\\Lenna_Adaptive Thresholding.png\",adaptive_thresh)\n",
    "cv2.waitKey(0)"
   ]
  },
  {
   "cell_type": "code",
   "execution_count": null,
   "metadata": {
    "collapsed": true
   },
   "outputs": [],
   "source": []
  },
  {
   "cell_type": "code",
   "execution_count": null,
   "metadata": {
    "collapsed": true
   },
   "outputs": [],
   "source": []
  }
 ],
 "metadata": {
  "kernelspec": {
   "display_name": "Python 3",
   "language": "python",
   "name": "python3"
  },
  "language_info": {
   "codemirror_mode": {
    "name": "ipython",
    "version": 3
   },
   "file_extension": ".py",
   "mimetype": "text/x-python",
   "name": "python",
   "nbconvert_exporter": "python",
   "pygments_lexer": "ipython3",
   "version": "3.6.2"
  }
 },
 "nbformat": 4,
 "nbformat_minor": 2
}
