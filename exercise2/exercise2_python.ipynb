{
 "cells": [
  {
   "cell_type": "code",
   "execution_count": 1,
   "metadata": {
    "collapsed": true
   },
   "outputs": [],
   "source": [
    "import numpy as np\n",
    "import cv2"
   ]
  },
  {
   "cell_type": "code",
   "execution_count": 2,
   "metadata": {},
   "outputs": [
    {
     "name": "stdout",
     "output_type": "stream",
     "text": [
      "Original_red:225,green:122,blue:106\n",
      "(512, 512, 3)\n"
     ]
    }
   ],
   "source": [
    "image = cv2.imread(\"C:\\\\Users\\\\lenovo\\\\Desktop\\\\EC601\\\\OpenCV\\\\OpenCV_homework\\\\Test_images\\\\Lenna.png\")\n",
    "cv2.imshow(\"Original\",image)\n",
    "cv2.waitKey(0)\n",
    "cv2.imwrite(\"C:\\\\Users\\\\lenovo\\\\Desktop\\\\EC601\\\\OpenCV\\\\OpenCV_homework\\\\exercise2 image\\\\Lenna_Original.png\",image)\n",
    "(a,b,c)=image[20,25]\n",
    "print(\"Original_red:%d,green:%d,blue:%d\" %(c,b,a))\n",
    "print(image.shape)"
   ]
  },
  {
   "cell_type": "code",
   "execution_count": 3,
   "metadata": {},
   "outputs": [
    {
     "name": "stdout",
     "output_type": "stream",
     "text": [
      "red_red:225\n",
      "(512, 512)\n",
      "green_green:225\n",
      "(512, 512)\n",
      "blue_blue:225\n",
      "(512, 512)\n"
     ]
    },
    {
     "data": {
      "text/plain": [
       "-1"
      ]
     },
     "execution_count": 3,
     "metadata": {},
     "output_type": "execute_result"
    }
   ],
   "source": [
    "input_planes = cv2.split(image)\n",
    "cv2.imshow(\"Red\",input_planes[2])\n",
    "cv2.imwrite(\"C:\\\\Users\\\\lenovo\\\\Desktop\\\\EC601\\\\OpenCV\\\\OpenCV_homework\\\\exercise2 image\\\\Lenna_Red.png\",input_planes[2])\n",
    "r=input_planes[2][20,25]\n",
    "print(\"red_red:%d\" %r)\n",
    "print(input_planes[2].shape)\n",
    "\n",
    "cv2.imshow(\"Green\",input_planes[1])\n",
    "cv2.imwrite(\"C:\\\\Users\\\\lenovo\\\\Desktop\\\\EC601\\\\OpenCV\\\\OpenCV_homework\\\\exercise2 image\\\\Lenna_Green.png\",input_planes[1])\n",
    "g=input_planes[2][20,25]\n",
    "print(\"green_green:%d\" %g)\n",
    "print(input_planes[1].shape)\n",
    "\n",
    "cv2.imshow(\"Blue\",input_planes[0])\n",
    "cv2.imwrite(\"C:\\\\Users\\\\lenovo\\\\Desktop\\\\EC601\\\\OpenCV\\\\OpenCV_homework\\\\exercise2 image\\\\Lenna_Blue.png\",input_planes[0])\n",
    "b=input_planes[2][20,25]\n",
    "print(\"blue_blue:%d\" %b)\n",
    "print(input_planes[0].shape)\n",
    "\n",
    "cv2.waitKey(0)"
   ]
  },
  {
   "cell_type": "code",
   "execution_count": 4,
   "metadata": {},
   "outputs": [
    {
     "name": "stdout",
     "output_type": "stream",
     "text": [
      "YCrCb_Y:151,Cb:181,Cr:103\n",
      "(512, 512, 3)\n",
      "Y_Y:151\n",
      "(512, 512)\n",
      "Cb_Cb:181\n",
      "(512, 512)\n",
      "Cr_Cr:103\n",
      "(512, 512)\n"
     ]
    },
    {
     "data": {
      "text/plain": [
       "-1"
      ]
     },
     "execution_count": 4,
     "metadata": {},
     "output_type": "execute_result"
    }
   ],
   "source": [
    "YCrCb = cv2.cvtColor(image,cv2.COLOR_BGR2YCrCb)\n",
    "cv2.imshow(\"YCrCb\",YCrCb)\n",
    "cv2.imwrite(\"C:\\\\Users\\\\lenovo\\\\Desktop\\\\EC601\\\\OpenCV\\\\OpenCV_homework\\\\exercise2 image\\\\Lenna_YCrCb.png\",YCrCb)\n",
    "(a,b,c)=YCrCb[20,25]\n",
    "print(\"YCrCb_Y:%d,Cb:%d,Cr:%d\" %(a,b,c))\n",
    "print(YCrCb.shape)\n",
    "\n",
    "input_planes = cv2.split(YCrCb)\n",
    "cv2.imshow(\"Y\",input_planes[0])\n",
    "cv2.imwrite(\"C:\\\\Users\\\\lenovo\\\\Desktop\\\\EC601\\\\OpenCV\\\\OpenCV_homework\\\\exercise2 image\\\\Lenna_Y.png\",input_planes[0])\n",
    "y=input_planes[0][20,25]\n",
    "print(\"Y_Y:%d\" %y)\n",
    "print(input_planes[0].shape)\n",
    "\n",
    "cv2.imshow(\"Cb\",input_planes[1])\n",
    "cv2.imwrite(\"C:\\\\Users\\\\lenovo\\\\Desktop\\\\EC601\\\\OpenCV\\\\OpenCV_homework\\\\exercise2 image\\\\Lenna_Cb.png\",input_planes[1])\n",
    "cb=input_planes[1][20,25]\n",
    "print(\"Cb_Cb:%d\" %cb)\n",
    "print(input_planes[1].shape)\n",
    "\n",
    "cv2.imshow(\"Cr\",input_planes[2])\n",
    "cv2.imwrite(\"C:\\\\Users\\\\lenovo\\\\Desktop\\\\EC601\\\\OpenCV\\\\OpenCV_homework\\\\exercise2 image\\\\Lenna_Cr.png\",input_planes[2])\n",
    "cr=input_planes[2][20,25]\n",
    "print(\"Cr_Cr:%d\" %cr)\n",
    "print(input_planes[2].shape)\n",
    "\n",
    "cv2.waitKey(0)"
   ]
  },
  {
   "cell_type": "code",
   "execution_count": 6,
   "metadata": {},
   "outputs": [
    {
     "name": "stdout",
     "output_type": "stream",
     "text": [
      "hsv_Hue:4,Saturation:135,Value:225\n",
      "(512, 512, 3)\n",
      "Hue_Hue:4\n",
      "(512, 512)\n",
      "Saturation_Saturation:135\n",
      "(512, 512)\n",
      "Value_Value:225\n",
      "(512, 512)\n"
     ]
    },
    {
     "data": {
      "text/plain": [
       "-1"
      ]
     },
     "execution_count": 6,
     "metadata": {},
     "output_type": "execute_result"
    }
   ],
   "source": [
    "hsv = cv2.cvtColor(image,cv2.COLOR_BGR2HSV)\n",
    "cv2.imshow(\"hsv\",hsv)\n",
    "cv2.imwrite(\"C:\\\\Users\\\\lenovo\\\\Desktop\\\\EC601\\\\OpenCV\\\\OpenCV_homework\\\\exercise2 image\\\\Lenna_hsv.png\",hsv)\n",
    "(a,b,c)=hsv[20,25]\n",
    "print(\"hsv_Hue:%d,Saturation:%d,Value:%d\" %(a,b,c))\n",
    "print(hsv.shape)\n",
    "\n",
    "input_planes = cv2.split(hsv)\n",
    "cv2.imshow(\"Hue\",input_planes[0])\n",
    "cv2.imwrite(\"C:\\\\Users\\\\lenovo\\\\Desktop\\\\EC601\\\\OpenCV\\\\OpenCV_homework\\\\exercise2 image\\\\Lenna_Hue.png\",input_planes[0])\n",
    "h=input_planes[0][20,25]\n",
    "print(\"Hue_Hue:%d\" %h)\n",
    "print(input_planes[0].shape)\n",
    "\n",
    "cv2.imshow(\"Saturation\",input_planes[1])\n",
    "cv2.imwrite(\"C:\\\\Users\\\\lenovo\\\\Desktop\\\\EC601\\\\OpenCV\\\\OpenCV_homework\\\\exercise2 image\\\\Lenna_Saturation.png\",input_planes[1])\n",
    "s=input_planes[1][20,25]\n",
    "print(\"Saturation_Saturation:%d\" %s)\n",
    "print(input_planes[1].shape)\n",
    "\n",
    "cv2.imshow(\"Value\",input_planes[2])\n",
    "cv2.imwrite(\"C:\\\\Users\\\\lenovo\\\\Desktop\\\\EC601\\\\OpenCV\\\\OpenCV_homework\\\\exercise2 image\\\\Lenna_Value.png\",input_planes[2])\n",
    "v=input_planes[2][20,25]\n",
    "print(\"Value_Value:%d\" %v)\n",
    "print(input_planes[2].shape)\n",
    "\n",
    "cv2.waitKey(0)"
   ]
  },
  {
   "cell_type": "code",
   "execution_count": null,
   "metadata": {
    "collapsed": true
   },
   "outputs": [],
   "source": []
  }
 ],
 "metadata": {
  "kernelspec": {
   "display_name": "Python 3",
   "language": "python",
   "name": "python3"
  },
  "language_info": {
   "codemirror_mode": {
    "name": "ipython",
    "version": 3
   },
   "file_extension": ".py",
   "mimetype": "text/x-python",
   "name": "python",
   "nbconvert_exporter": "python",
   "pygments_lexer": "ipython3",
   "version": "3.6.2"
  }
 },
 "nbformat": 4,
 "nbformat_minor": 2
}
